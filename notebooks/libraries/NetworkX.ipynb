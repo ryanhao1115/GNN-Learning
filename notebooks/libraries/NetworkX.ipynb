{
  "nbformat": 4,
  "nbformat_minor": 0,
  "metadata": {
    "kernelspec": {
      "name": "python3",
      "display_name": "Python 3"
    },
    "colab": {
      "name": "NetworkX.ipynb",
      "provenance": []
    },
    "language_info": {
      "name": "python"
    }
  },
  "cells": [
    {
      "cell_type": "markdown",
      "metadata": {
        "id": "iZMN7TrZQ1rL"
      },
      "source": [
        "# NetworkX"
      ]
    },
    {
      "cell_type": "markdown",
      "metadata": {
        "id": "dt2QTOvvQ1rV"
      },
      "source": [
        "NetworkX is a Python language software package for the creation, manipulation, and study of the structure, dynamics, and function of complex networks.\n",
        "\n",
        "With NetworkX you can load and store networks in standard and nonstandard data formats, generate many types of random and classic networks, analyze network structure, build network models, design new network algorithms, draw networks, and much more.\n",
        "\n",
        "Library documentation: <a>https://networkx.github.io/</a>"
      ]
    },
    {
      "cell_type": "code",
      "metadata": {
        "id": "EQO_IpRWQ1rX"
      },
      "source": [
        "import networkx as nx\n",
        "G = nx.Graph()"
      ],
      "execution_count": 18,
      "outputs": []
    },
    {
      "cell_type": "code",
      "metadata": {
        "id": "CN94UHjLQ1ra"
      },
      "source": [
        "# basic add nodes\n",
        "G.add_node(1)\n",
        "G.add_nodes_from([2, 3])"
      ],
      "execution_count": 19,
      "outputs": []
    },
    {
      "cell_type": "code",
      "metadata": {
        "id": "pofUQLnLDoZY",
        "outputId": "0b744bf4-3527-4f0c-a1b5-3a42a7f704e9",
        "colab": {
          "base_uri": "https://localhost:8080/"
        }
      },
      "source": [
        "print(G.nodes)"
      ],
      "execution_count": 10,
      "outputs": [
        {
          "output_type": "stream",
          "name": "stdout",
          "text": [
            "[1, 2, 3, 0, 4, 5, 6, 7, 8, 9, <networkx.classes.graph.Graph object at 0x7fc0ba849690>]\n"
          ]
        }
      ]
    },
    {
      "cell_type": "code",
      "metadata": {
        "id": "7_GQ34AxQ1rc"
      },
      "source": [
        "# add a group of nodes at once\n",
        "H = nx.path_graph(10)\n",
        "G.add_nodes_from(H)"
      ],
      "execution_count": 20,
      "outputs": []
    },
    {
      "cell_type": "code",
      "metadata": {
        "id": "De1QJ4stQ1rd"
      },
      "source": [
        "# add another graph itself as a node\n",
        "G.add_node(H)"
      ],
      "execution_count": 21,
      "outputs": []
    },
    {
      "cell_type": "code",
      "metadata": {
        "id": "8FU6cC7pE-19",
        "outputId": "dcb1449e-a5c7-4525-c153-36f52b558928",
        "colab": {
          "base_uri": "https://localhost:8080/"
        }
      },
      "source": [
        "print(H.edges)"
      ],
      "execution_count": 22,
      "outputs": [
        {
          "output_type": "stream",
          "name": "stdout",
          "text": [
            "[(0, 1), (1, 2), (2, 3), (3, 4), (4, 5), (5, 6), (6, 7), (7, 8), (8, 9)]\n"
          ]
        }
      ]
    },
    {
      "cell_type": "code",
      "metadata": {
        "id": "aPb-qgaiFJSL"
      },
      "source": [
        "N = nx.path_graph(['a','b','e','z','n','m'])"
      ],
      "execution_count": 23,
      "outputs": []
    },
    {
      "cell_type": "code",
      "metadata": {
        "id": "gi7a9lI-Fzyg",
        "outputId": "5f5fe580-f786-414d-bd18-29bb44b180a9",
        "colab": {
          "base_uri": "https://localhost:8080/"
        }
      },
      "source": [
        "print(N.nodes,N.edges)"
      ],
      "execution_count": 24,
      "outputs": [
        {
          "output_type": "stream",
          "name": "stdout",
          "text": [
            "['a', 'b', 'e', 'z', 'n', 'm'] [('a', 'b'), ('b', 'e'), ('e', 'z'), ('z', 'n'), ('n', 'm')]\n"
          ]
        }
      ]
    },
    {
      "cell_type": "code",
      "metadata": {
        "id": "MIrxKgQ0Q1rg"
      },
      "source": [
        "# add edges using similar methods\n",
        "G.add_edge(1, 2)\n",
        "e = (2, 3)\n",
        "G.add_edge(*e)\n",
        "G.add_edges_from([(1, 2), (1, 3)])\n",
        "G.add_edges_from(H.edges())"
      ],
      "execution_count": 25,
      "outputs": []
    },
    {
      "cell_type": "code",
      "metadata": {
        "id": "JYAY4ffwU4nC",
        "outputId": "33f1d6ff-0a9c-4b6a-fd62-1b9fc3de77c3",
        "colab": {
          "base_uri": "https://localhost:8080/"
        }
      },
      "source": [
        "print(G.edges)"
      ],
      "execution_count": 32,
      "outputs": [
        {
          "output_type": "stream",
          "name": "stdout",
          "text": [
            "[(1, 2), (1, 3)]\n"
          ]
        }
      ]
    },
    {
      "cell_type": "code",
      "metadata": {
        "id": "pmQ35mWHVHhK",
        "outputId": "d99d9b0a-f3e8-4e2d-e7d6-54e5fe19f2fb",
        "colab": {
          "base_uri": "https://localhost:8080/"
        }
      },
      "source": [
        "print(G.nodes)"
      ],
      "execution_count": 31,
      "outputs": [
        {
          "output_type": "stream",
          "name": "stdout",
          "text": [
            "[1, 2, 3, 'spam', 's', 'p', 'a', 'm']\n"
          ]
        }
      ]
    },
    {
      "cell_type": "code",
      "metadata": {
        "id": "RrDpXjivQ1ri"
      },
      "source": [
        "# can also remove or clear\n",
        "G.remove_node(H)\n",
        "G.clear()"
      ],
      "execution_count": 28,
      "outputs": []
    },
    {
      "cell_type": "code",
      "metadata": {
        "id": "fwfY0Gc0Q1rj"
      },
      "source": [
        "# repeats are ignored\n",
        "G.add_edges_from([(1,2),(1,3)])\n",
        "G.add_node(1)\n",
        "G.add_edge(1,2)\n",
        "G.add_node('spam')       # adds node \"spam\"\n",
        "G.add_nodes_from('spam') # adds 4 nodes: 's', 'p', 'a', 'm'"
      ],
      "execution_count": 30,
      "outputs": []
    },
    {
      "cell_type": "code",
      "metadata": {
        "id": "vFsGCH7Ls6Zm"
      },
      "source": [
        ""
      ],
      "execution_count": null,
      "outputs": []
    },
    {
      "cell_type": "code",
      "metadata": {
        "id": "56HbDFKBQ1rl",
        "outputId": "93260a5e-4e7f-483a-ab8c-594cf1af5994",
        "colab": {
          "base_uri": "https://localhost:8080/"
        }
      },
      "source": [
        "# get the number of nodes and edges\n",
        "G.number_of_nodes(), G.number_of_edges()"
      ],
      "execution_count": 33,
      "outputs": [
        {
          "output_type": "execute_result",
          "data": {
            "text/plain": [
              "(8, 2)"
            ]
          },
          "metadata": {},
          "execution_count": 33
        }
      ]
    },
    {
      "cell_type": "code",
      "metadata": {
        "id": "Xa0y4pagQ1rm",
        "outputId": "e034cb7c-dc3d-44ff-e7b1-10fdf2e6c0c4",
        "colab": {
          "base_uri": "https://localhost:8080/"
        }
      },
      "source": [
        "# access graph edges, [nodes#] get the edget connected to this node\n",
        "G[2]"
      ],
      "execution_count": 39,
      "outputs": [
        {
          "output_type": "execute_result",
          "data": {
            "text/plain": [
              "AtlasView({1: {}})"
            ]
          },
          "metadata": {},
          "execution_count": 39
        }
      ]
    },
    {
      "cell_type": "code",
      "metadata": {
        "id": "iY9M399LQ1rn",
        "outputId": "32b7c5c5-6ba8-46b0-d1cb-e40b692101de",
        "colab": {
          "base_uri": "https://localhost:8080/"
        }
      },
      "source": [
        "G[1][3]"
      ],
      "execution_count": 43,
      "outputs": [
        {
          "output_type": "execute_result",
          "data": {
            "text/plain": [
              "{'color': 'blue'}"
            ]
          },
          "metadata": {},
          "execution_count": 43
        }
      ]
    },
    {
      "cell_type": "code",
      "metadata": {
        "id": "vL8G5XfmQ1rn"
      },
      "source": [
        "# set an attribute of an edge\n",
        "#G.add_edge(1,3)\n",
        "G[1][3]['color'] = 'blue'"
      ],
      "execution_count": 42,
      "outputs": []
    },
    {
      "cell_type": "code",
      "metadata": {
        "id": "yB5hVxXCQ1ro",
        "outputId": "56f778a4-03ce-414f-b2d5-54bacb3bfb83",
        "colab": {
          "base_uri": "https://localhost:8080/"
        }
      },
      "source": [
        "FG = nx.Graph()\n",
        "FG.add_weighted_edges_from([(1, 2, 0.125), (1, 3, 0.75), (2, 4, 1.2), (3, 4, 0.375)])\n",
        "print(FG[2])"
      ],
      "execution_count": 46,
      "outputs": [
        {
          "output_type": "stream",
          "name": "stdout",
          "text": [
            "{1: {'weight': 0.125}, 4: {'weight': 1.2}}\n"
          ]
        }
      ]
    },
    {
      "cell_type": "code",
      "metadata": {
        "id": "Zes4tShixYWg",
        "outputId": "29676879-8f94-4fe0-9c0e-e347d496b490",
        "colab": {
          "base_uri": "https://localhost:8080/"
        }
      },
      "source": [
        "for n, nbrs in FG.adjacency():\n",
        "    for nbr, eattr in nbrs.items():\n",
        "        data = eattr['weight']\n",
        "        if data < 0.5: print('(%d, %d, %.3f)' % (n, nbr, data))"
      ],
      "execution_count": 48,
      "outputs": [
        {
          "output_type": "stream",
          "name": "stdout",
          "text": [
            "(1, 2, 0.125)\n",
            "(2, 1, 0.125)\n",
            "(3, 4, 0.375)\n",
            "(4, 3, 0.375)\n"
          ]
        }
      ]
    },
    {
      "cell_type": "code",
      "metadata": {
        "id": "ZAtlh0KAQ1rp",
        "outputId": "12099266-09e7-4450-d4ea-58f4eb0ec9d0",
        "colab": {
          "base_uri": "https://localhost:8080/"
        }
      },
      "source": [
        "# graph attribte\n",
        "G = nx.Graph(day='Friday')\n",
        "G.graph"
      ],
      "execution_count": 49,
      "outputs": [
        {
          "output_type": "execute_result",
          "data": {
            "text/plain": [
              "{'day': 'Friday'}"
            ]
          },
          "metadata": {},
          "execution_count": 49
        }
      ]
    },
    {
      "cell_type": "code",
      "metadata": {
        "id": "M5hrjGsGQ1rp",
        "outputId": "eaf420fe-be6d-4e2c-ed75-076c589f2936",
        "colab": {
          "base_uri": "https://localhost:8080/"
        }
      },
      "source": [
        "# modifying an attribute\n",
        "G.graph['day'] = 'Monday'\n",
        "G.graph"
      ],
      "execution_count": 50,
      "outputs": [
        {
          "output_type": "execute_result",
          "data": {
            "text/plain": [
              "{'day': 'Monday'}"
            ]
          },
          "metadata": {},
          "execution_count": 50
        }
      ]
    },
    {
      "cell_type": "code",
      "metadata": {
        "id": "47R2VCJtQ1rq",
        "outputId": "cf96949d-be20-42b9-86b8-444fc45c0301",
        "colab": {
          "base_uri": "https://localhost:8080/"
        }
      },
      "source": [
        "# node attributes\n",
        "G.add_node(1, time='5pm')\n",
        "G.add_nodes_from([3], time='2pm')\n",
        "G.nodes[1]['room'] = 714\n",
        "G.nodes(data=True)"
      ],
      "execution_count": 53,
      "outputs": [
        {
          "output_type": "execute_result",
          "data": {
            "text/plain": [
              "NodeDataView({1: {'time': '5pm', 'room': 714}, 3: {'time': '2pm'}})"
            ]
          },
          "metadata": {},
          "execution_count": 53
        }
      ]
    },
    {
      "cell_type": "code",
      "metadata": {
        "id": "ORCxJhy_Q1rq"
      },
      "source": [
        "# edge attributes (weight is a special numeric attribute)\n",
        "G.add_edge(1, 2, weight=4.7)\n",
        "G.add_edges_from([(3, 4), (4, 5)], color='red')\n",
        "G.add_edges_from([(1, 2 ,{'color': 'blue'}), (2, 3, {'weight' :8})])\n",
        "G[1][2]['weight'] = 4.7\n",
        "#G.edges[1][2]['weight'] = 4"
      ],
      "execution_count": 56,
      "outputs": []
    },
    {
      "cell_type": "code",
      "metadata": {
        "id": "L3hrESGZzkLv",
        "outputId": "4de9e4ae-a9a5-44c5-9748-e06f8ca60267",
        "colab": {
          "base_uri": "https://localhost:8080/"
        }
      },
      "source": [
        "print(G.nodes, G.edges(data=True))"
      ],
      "execution_count": 59,
      "outputs": [
        {
          "output_type": "stream",
          "name": "stdout",
          "text": [
            "[1, 3, 2, 4, 5] [(1, 2, {'weight': 4.7, 'color': 'blue'}), (3, 4, {'color': 'red'}), (3, 2, {'weight': 8}), (4, 5, {'color': 'red'})]\n"
          ]
        }
      ]
    },
    {
      "cell_type": "code",
      "metadata": {
        "id": "7awTe7v2Q1rr",
        "outputId": "22de53c7-30d5-4cad-ad9a-f48901343375",
        "colab": {
          "base_uri": "https://localhost:8080/"
        }
      },
      "source": [
        "# directed graph\n",
        "DG = nx.DiGraph()\n",
        "DG.add_weighted_edges_from([(1, 2 ,0.5), (3, 1, 0.75)])\n",
        "DG.out_degree(1, weight='weight')"
      ],
      "execution_count": 60,
      "outputs": [
        {
          "output_type": "execute_result",
          "data": {
            "text/plain": [
              "0.5"
            ]
          },
          "metadata": {},
          "execution_count": 60
        }
      ]
    },
    {
      "cell_type": "code",
      "metadata": {
        "id": "N0MWisgc0AJ6",
        "outputId": "d1d3e4d2-630e-43cf-b634-8b8cf92bceb9",
        "colab": {
          "base_uri": "https://localhost:8080/"
        }
      },
      "source": [
        "DG.in_degree(1,weight='weight')"
      ],
      "execution_count": 62,
      "outputs": [
        {
          "output_type": "execute_result",
          "data": {
            "text/plain": [
              "0.75"
            ]
          },
          "metadata": {},
          "execution_count": 62
        }
      ]
    },
    {
      "cell_type": "code",
      "metadata": {
        "id": "2ysPoi8mQ1rr",
        "outputId": "08110ca3-b05a-4a84-893b-e0eae1a7eb17",
        "colab": {
          "base_uri": "https://localhost:8080/"
        }
      },
      "source": [
        "DG.degree(1, weight='weight')"
      ],
      "execution_count": 63,
      "outputs": [
        {
          "output_type": "execute_result",
          "data": {
            "text/plain": [
              "1.25"
            ]
          },
          "metadata": {},
          "execution_count": 63
        }
      ]
    },
    {
      "cell_type": "code",
      "metadata": {
        "id": "EhROTZeP0af-",
        "outputId": "b4dae3f3-6c58-4887-ae34-436d7778f1a7",
        "colab": {
          "base_uri": "https://localhost:8080/"
        }
      },
      "source": [
        "DG.nodes"
      ],
      "execution_count": 66,
      "outputs": [
        {
          "output_type": "execute_result",
          "data": {
            "text/plain": [
              "NodeView((1, 2, 3))"
            ]
          },
          "metadata": {},
          "execution_count": 66
        }
      ]
    },
    {
      "cell_type": "code",
      "metadata": {
        "id": "DpqEbcA3Q1rs",
        "outputId": "47571d16-5180-4e3d-cefd-b61ffd4cb863",
        "colab": {
          "base_uri": "https://localhost:8080/"
        }
      },
      "source": [
        "print(DG.successors(1))"
      ],
      "execution_count": 68,
      "outputs": [
        {
          "output_type": "stream",
          "name": "stdout",
          "text": [
            "<dict_keyiterator object at 0x7fc0b3c28650>\n"
          ]
        }
      ]
    },
    {
      "cell_type": "code",
      "metadata": {
        "id": "LTbvPn_kQ1rs",
        "outputId": "9456c112-24d3-4dd0-f31e-58b8edf2c2e0",
        "colab": {
          "base_uri": "https://localhost:8080/"
        }
      },
      "source": [
        "DG.predecessors(1)"
      ],
      "execution_count": 65,
      "outputs": [
        {
          "output_type": "execute_result",
          "data": {
            "text/plain": [
              "<dict_keyiterator at 0x7fc0b3c9d650>"
            ]
          },
          "metadata": {},
          "execution_count": 65
        }
      ]
    },
    {
      "cell_type": "code",
      "metadata": {
        "id": "bQhvRnq5Q1rt"
      },
      "source": [
        "# convert to undirected graph\n",
        "H = nx.Graph(G)"
      ],
      "execution_count": 70,
      "outputs": []
    },
    {
      "cell_type": "code",
      "metadata": {
        "id": "rdzGgDRAQ1rt",
        "outputId": "bcaf77bd-755e-4c40-8321-2cfe4df6f725",
        "colab": {
          "base_uri": "https://localhost:8080/",
          "height": 319
        }
      },
      "source": [
        "# basic graph drawing capability\n",
        "%matplotlib inline\n",
        "import matplotlib.pyplot as plt\n",
        "nx.draw(H)"
      ],
      "execution_count": 72,
      "outputs": [
        {
          "output_type": "display_data",
          "data": {
            "image/png": "[encoded data removed]",
            "text/plain": [
              "<Figure size 432x288 with 1 Axes>"
            ]
          },
          "metadata": {}
        }
      ]
    }
  ]
}